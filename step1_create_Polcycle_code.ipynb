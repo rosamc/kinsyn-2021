{
 "cells": [
  {
   "cell_type": "markdown",
   "metadata": {},
   "source": [
    "Compile code for calculating steady state of polymerase cycle model. For this I am using the functionality in GeneRegulatoryFunctions which in turn requires the polynomials repository as detailed below. However, for the purposes of the calculations that are actually used in the paper, the polynomial solving routines are not needed. Therefore, if there are compilation problems arising from using the polynomials code, the source code could be modified to be compiled without the polynomials code. \n",
    "\n",
    "Requirements:\n",
    "\n",
    "Eigen. \n",
    "\n",
    "GeneRegulatoryFunctions repository: https://github.com/rosamc/GeneRegulatoryFunctions\n",
    "\n",
    "Polynomial solving routines in repository https://github.com/kmnam/polynomials, commit 8c8a8b5c7e57bfb98b3ea5a155039a25c2ecb43."
   ]
  },
  {
   "cell_type": "code",
   "execution_count": 1,
   "metadata": {},
   "outputs": [
    {
     "data": {
      "text/html": [
       "<style>.container { width:100% !important; }</style>"
      ],
      "text/plain": [
       "<IPython.core.display.HTML object>"
      ]
     },
     "metadata": {},
     "output_type": "display_data"
    }
   ],
   "source": [
    "from IPython.core.display import display, HTML\n",
    "display(HTML(\"<style>.container { width:100% !important; }</style>\"))"
   ]
  },
  {
   "cell_type": "code",
   "execution_count": 2,
   "metadata": {},
   "outputs": [],
   "source": [
    "path_to_eigen=\"/Users/rosamartinezcorral/Documents/eigenlibrary/eigen-eigen-323c052e1731/\"\n",
    "path_to_polynomials=\"\\\"/Users/rosamartinezcorral/Dropbox (HMS)/work2/shared_fromothers/polynomials/include/polynomial/\\\"\"\n",
    "path_to_utilsGRF=\"\\\"/Users/rosamartinezcorral/Dropbox (HMS)/work2/shared/utilsGRF\\\"\" #GeneRegulatoryFunctions repo\n",
    "path_to_utilsGRF2='/Users/rosamartinezcorral/Dropbox (HMS)/work2/shared/utilsGRF' #for python, the space is a problem between python and bash"
   ]
  },
  {
   "cell_type": "code",
   "execution_count": 3,
   "metadata": {},
   "outputs": [],
   "source": [
    "import numpy as np\n",
    "import sys, os\n",
    "sys.path.append(path_to_utilsGRF2) #this is the GeneRegulatoryFunctions repo \n",
    "\n",
    "import writescripts "
   ]
  },
  {
   "cell_type": "code",
   "execution_count": 4,
   "metadata": {},
   "outputs": [],
   "source": [
    "#The expressions for the numerator and denominator should be of the form:(specify 1* in any case)\n",
    "\n"
   ]
  },
  {
   "cell_type": "markdown",
   "metadata": {},
   "source": [
    "# Pol model"
   ]
  },
  {
   "cell_type": "code",
   "execution_count": 5,
   "metadata": {},
   "outputs": [
    {
     "name": "stdout",
     "output_type": "stream",
     "text": [
      "['ktia0', 'ktan0', 'ktin0', 'ktni0', 'ktiaA', 'ktanA', 'ktinA', 'ktniA', 'ktiaB', 'ktanB', 'ktinB', 'ktniB', 'kbBa', 'kuBa', 'kbBi', 'kuBi', 'kbBn', 'kuBn', 'kbAa', 'kuAa', 'kbAi', 'kuAi', 'kbAn', 'kuAn']\n",
      "removing  ../../../work2/shared/utilsGRF/graph-parsed.txt\n",
      "removing  ../../../work2/shared/utilsGRF/graph-6.txt\n",
      "removing  ../../../work2/shared/utilsGRF/graph-7.txt\n",
      "removing  ../../../work2/shared/utilsGRF/graph-5.txt\n",
      "removing  ../../../work2/shared/utilsGRF/graph-4.txt\n",
      "removing  ../../../work2/shared/utilsGRF/graph-1.txt\n",
      "removing  ../../../work2/shared/utilsGRF/graph-3.txt\n",
      "removing  ../../../work2/shared/utilsGRF/graph-2.txt\n",
      "removing  ../../../work2/shared/utilsGRF/graph-9.txt\n",
      "removing  ../../../work2/shared/utilsGRF/graph-8.txt\n",
      "removing  ../../../work2/shared/utilsGRF/graph.txt\n",
      "executing MTT\n",
      "0\n",
      "0\n",
      "1\n"
     ]
    }
   ],
   "source": [
    "edges=[(2,'ktia0',1),(1,'ktan0',3),(2,'ktin0',3),(3,'ktni0',2),\n",
    "       (8,'ktiaA',7),(7,'ktanA',9),(8,'ktinA',9),(9,'ktniA',8),\n",
    "       (5,'ktiaB',4),(4,'ktanB',6),(5,'ktinB',6),(6,'ktniB',5),\n",
    "      (1,'kbBa-B',4),(4,'kuBa',1),(2,'kbBi-B',5),(5,'kuBi',2),(3,'kbBn-B',6),(6,'kuBn',3),\n",
    "       (1,'kbAa-A',7),(7,'kuAa',1),(2,'kbAi-A',8),(8,'kuAi',2),(3,'kbAn-A',9),(9,'kuAn',3)]\n",
    "MTTfolder='../../../work2/shared/utilsGRF' #folder with MTT.py \n",
    "basename='graph'\n",
    "\n",
    "parlist=[x[1] for x in edges]\n",
    "for pnum,par in enumerate(parlist):\n",
    "    if '-A' in par:\n",
    "        parlist[pnum]=parlist[pnum].replace('-A','')\n",
    "    if '-B' in par:\n",
    "        parlist[pnum]=parlist[pnum].replace('-B','')\n",
    "print(parlist)\n",
    "\n",
    "obj=writescripts.PrepareFilesNoneq(edgelist=edges,varGRF='A',concvars=['A','B'],parlist=parlist,MTTfolder=MTTfolder,graphbasename=basename)\n",
    "obj.write_execute_parse()\n",
    "\n",
    "obj.simpify_rhos()\n",
    "\n",
    "num=\"ktanA*(rho7)+ktanB*(rho4)+ktan0*(rho1)\"\n",
    "den=\"1*(rho1+rho2+rho3+rho4+rho5+rho6+rho7+rho8+rho9)\"\n",
    "\n",
    "obj.parse_GRF(num,den)\n",
    "\n"
   ]
  },
  {
   "cell_type": "code",
   "execution_count": 6,
   "metadata": {},
   "outputs": [
    {
     "data": {
      "text/plain": [
       "'rho_1=ktia0*ktni0*ktiaA*ktanA*ktiaB*ktanB*kuBn*kuAn+ktia0*ktni0*ktanA*ktiaB*ktanB*kuBn*kuAi*kuAn+ktia0*ktni0*ktiaB*ktanB*kuBn*kuAa*kuAi*kuAn+ktia0*ktni0*ktanB*ktinB*kuBn*kuAa*kuAi*kuAn+ktia0*ktni0*ktinB*kuBa*kuBn*kuAa*kuAi*kuAn+ktia0*ktni0*ktniA*ktiaB*ktanB*kuBn*kuAa*kuAi+ktia0*ktni0*ktniA*ktanB*ktinB*kuBn*kuAa*kuAi+ktia0*ktniA*ktanB*ktinB*kuBn*kuAa*kuAi*kbAn*A+ktia0*ktni0*ktniA*ktinB*kuBa*kuBn*kuAa*kuAi+ktia0*ktniA*ktinB*kuBa*kuBn*kuAa*kuAi*kbAn*A+ktia0*ktniA*ktiaB*ktanB*kuBn*kuAa*kuAi*kbAn*A+ktia0*ktni0*ktniA*ktiaB*kuBa*kuBn*kuAa*kuAi+ktni0*ktniA*ktiaB*kuBa*kbBi*B*kuBn*kuAa*kuAi+ktia0*ktniA*ktiaB*kuBa*kuBn*kuAa*kuAi*kbAn*A+ktniA*ktiaB*kuBa*kbBi*B*kuBn*kuAa*kuAi*kbAn*A+ktia0*ktni0*ktniA*ktiaB*ktniB*kuBa*kuAa*kuAi+ktni0*ktniA*ktiaB*ktniB*kuBa*kbBi*B*kuAa*kuAi+ktia0*ktniA*ktiaB*ktniB*kuBa*kuAa*kuAi*kbAn*A+ktniA*ktiaB*ktniB*kuBa*kbBi*B*kuAa*kuAi*kbAn*A+ktia0*ktniA*ktiaB*ktniB*kuBa*kbBn*B*kuAa*kuAi+ktniA*ktiaB*ktniB*kuBa*kbBi*B*kbBn*B*kuAa*kuAi+ktin0*ktniA*ktiaB*ktniB*kuBa*kbBn*B*kuAa*kuAi+ktia0*ktni0*ktniA*ktanB*kuBi*kuBn*kuAa*kuAi+ktia0*ktniA*ktanB*kuBi*kuBn*kuAa*kuAi*kbAn*A+ktia0*ktni0*ktniA*kuBa*kuBi*kuBn*kuAa*kuAi+ktia0*ktniA*kuBa*kuBi*kuBn*kuAa*kuAi*kbAn*A+ktia0*ktni0*ktniA*ktniB*kuBa*kuBi*kuAa*kuAi+ktia0*ktniA*ktniB*kuBa*kuBi*kuAa*kuAi*kbAn*A+ktia0*ktniA*ktniB*kuBa*kuBi*kbBn*B*kuAa*kuAi+ktia0*ktni0*ktniA*ktanB*ktniB*kuBi*kuAa*kuAi+ktia0*ktniA*ktanB*ktniB*kuBi*kuAa*kuAi*kbAn*A+ktia0*ktniA*ktanB*ktniB*kuBi*kbBn*B*kuAa*kuAi+ktia0*ktni0*ktiaB*kuBa*kuBn*kuAa*kuAi*kuAn+ktni0*ktiaB*kuBa*kbBi*B*kuBn*kuAa*kuAi*kuAn+ktia0*ktni0*ktiaB*ktniB*kuBa*kuAa*kuAi*kuAn+ktni0*ktiaB*ktniB*kuBa*kbBi*B*kuAa*kuAi*kuAn+ktia0*ktiaB*ktniB*kuBa*kbBn*B*kuAa*kuAi*kuAn+ktiaB*ktniB*kuBa*kbBi*B*kbBn*B*kuAa*kuAi*kuAn+ktin0*ktiaB*ktniB*kuBa*kbBn*B*kuAa*kuAi*kuAn+ktia0*ktni0*ktanB*kuBi*kuBn*kuAa*kuAi*kuAn+ktia0*ktni0*kuBa*kuBi*kuBn*kuAa*kuAi*kuAn+ktia0*ktni0*ktniB*kuBa*kuBi*kuAa*kuAi*kuAn+ktia0*ktniB*kuBa*kuBi*kbBn*B*kuAa*kuAi*kuAn+ktia0*ktni0*ktanB*ktniB*kuBi*kuAa*kuAi*kuAn+ktia0*ktanB*ktniB*kuBi*kbBn*B*kuAa*kuAi*kuAn+ktia0*ktni0*ktanA*ktanB*ktinB*kuBn*kuAi*kuAn+ktia0*ktni0*ktanA*ktinB*kuBa*kuBn*kuAi*kuAn+ktia0*ktni0*ktanA*ktniA*ktiaB*ktanB*kuBn*kuAi+ktia0*ktni0*ktanA*ktniA*ktanB*ktinB*kuBn*kuAi+ktia0*ktanA*ktniA*ktanB*ktinB*kuBn*kuAi*kbAn*A+ktia0*ktni0*ktanA*ktniA*ktinB*kuBa*kuBn*kuAi+ktia0*ktanA*ktniA*ktinB*kuBa*kuBn*kuAi*kbAn*A+ktia0*ktanA*ktniA*ktiaB*ktanB*kuBn*kuAi*kbAn*A+ktia0*ktni0*ktanA*ktniA*ktiaB*kuBa*kuBn*kuAi+ktni0*ktanA*ktniA*ktiaB*kuBa*kbBi*B*kuBn*kuAi+ktia0*ktanA*ktniA*ktiaB*kuBa*kuBn*kuAi*kbAn*A+ktanA*ktniA*ktiaB*kuBa*kbBi*B*kuBn*kuAi*kbAn*A+ktia0*ktni0*ktanA*ktniA*ktiaB*ktniB*kuBa*kuAi+ktni0*ktanA*ktniA*ktiaB*ktniB*kuBa*kbBi*B*kuAi+ktia0*ktanA*ktniA*ktiaB*ktniB*kuBa*kuAi*kbAn*A+ktanA*ktniA*ktiaB*ktniB*kuBa*kbBi*B*kuAi*kbAn*A+ktia0*ktanA*ktniA*ktiaB*ktniB*kuBa*kbBn*B*kuAi+ktanA*ktniA*ktiaB*ktniB*kuBa*kbBi*B*kbBn*B*kuAi+ktin0*ktanA*ktniA*ktiaB*ktniB*kuBa*kbBn*B*kuAi+ktia0*ktni0*ktanA*ktniA*ktanB*kuBi*kuBn*kuAi+ktia0*ktanA*ktniA*ktanB*kuBi*kuBn*kuAi*kbAn*A+ktia0*ktni0*ktanA*ktniA*kuBa*kuBi*kuBn*kuAi+ktia0*ktanA*ktniA*kuBa*kuBi*kuBn*kuAi*kbAn*A+ktia0*ktni0*ktanA*ktniA*ktniB*kuBa*kuBi*kuAi+ktia0*ktanA*ktniA*ktniB*kuBa*kuBi*kuAi*kbAn*A+ktia0*ktanA*ktniA*ktniB*kuBa*kuBi*kbBn*B*kuAi+ktia0*ktni0*ktanA*ktniA*ktanB*ktniB*kuBi*kuAi+ktia0*ktanA*ktniA*ktanB*ktniB*kuBi*kuAi*kbAn*A+ktia0*ktanA*ktniA*ktanB*ktniB*kuBi*kbBn*B*kuAi+ktia0*ktni0*ktanA*ktanB*kuBi*kuBn*kuAi*kuAn+ktia0*ktni0*ktanA*kuBa*kuBi*kuBn*kuAi*kuAn+ktia0*ktni0*ktanA*ktniB*kuBa*kuBi*kuAi*kuAn+ktia0*ktanA*ktniB*kuBa*kuBi*kbBn*B*kuAi*kuAn+ktia0*ktni0*ktanA*ktanB*ktniB*kuBi*kuAi*kuAn+ktia0*ktanA*ktanB*ktniB*kuBi*kbBn*B*kuAi*kuAn+ktia0*ktni0*ktanA*ktiaB*kuBa*kuBn*kuAi*kuAn+ktni0*ktanA*ktiaB*kuBa*kbBi*B*kuBn*kuAi*kuAn+ktia0*ktni0*ktanA*ktiaB*ktniB*kuBa*kuAi*kuAn+ktni0*ktanA*ktiaB*ktniB*kuBa*kbBi*B*kuAi*kuAn+ktia0*ktanA*ktiaB*ktniB*kuBa*kbBn*B*kuAi*kuAn+ktanA*ktiaB*ktniB*kuBa*kbBi*B*kbBn*B*kuAi*kuAn+ktin0*ktanA*ktiaB*ktniB*kuBa*kbBn*B*kuAi*kuAn+ktia0*ktni0*ktiaA*ktiaB*ktanB*kuBn*kuAa*kuAn+ktia0*ktni0*ktiaA*ktanB*ktinB*kuBn*kuAa*kuAn+ktni0*ktiaA*ktanB*ktinB*kuBn*kuAa*kbAi*A*kuAn+ktia0*ktni0*ktiaA*ktinB*kuBa*kuBn*kuAa*kuAn+ktni0*ktiaA*ktinB*kuBa*kuBn*kuAa*kbAi*A*kuAn+ktni0*ktiaA*ktiaB*ktanB*kuBn*kuAa*kbAi*A*kuAn+ktia0*ktni0*ktiaA*ktniA*ktiaB*ktanB*kuBn*kuAa+ktia0*ktni0*ktiaA*ktniA*ktanB*ktinB*kuBn*kuAa+ktni0*ktiaA*ktniA*ktanB*ktinB*kuBn*kuAa*kbAi*A+ktia0*ktiaA*ktniA*ktanB*ktinB*kuBn*kuAa*kbAn*A+ktiaA*ktniA*ktanB*ktinB*kuBn*kuAa*kbAi*A*kbAn*A+ktiaA*ktniA*ktanB*ktinB*kbBi*B*kuBn*kuAa*kbAn*A+ktin0*ktiaA*ktniA*ktanB*ktinB*kuBn*kuAa*kbAn*A+ktia0*ktni0*ktiaA*ktniA*ktinB*kuBa*kuBn*kuAa+ktni0*ktiaA*ktniA*ktinB*kuBa*kuBn*kuAa*kbAi*A+ktia0*ktiaA*ktniA*ktinB*kuBa*kuBn*kuAa*kbAn*A+ktiaA*ktniA*ktinB*kuBa*kuBn*kuAa*kbAi*A*kbAn*A+ktiaA*ktniA*ktinB*kuBa*kbBi*B*kuBn*kuAa*kbAn*A+ktin0*ktiaA*ktniA*ktinB*kuBa*kuBn*kuAa*kbAn*A+ktni0*ktiaA*ktniA*ktiaB*ktanB*kuBn*kuAa*kbAi*A+ktia0*ktni0*ktiaA*ktniA*ktanB*kuBi*kuBn*kuAa+ktni0*ktiaA*ktniA*ktanB*kuBi*kuBn*kuAa*kbAi*A+ktia0*ktiaA*ktniA*ktanB*kuBi*kuBn*kuAa*kbAn*A+ktiaA*ktniA*ktanB*kuBi*kuBn*kuAa*kbAi*A*kbAn*A+ktin0*ktiaA*ktniA*ktanB*kuBi*kuBn*kuAa*kbAn*A+ktia0*ktni0*ktiaA*ktniA*kuBa*kuBi*kuBn*kuAa+ktni0*ktiaA*ktniA*kuBa*kuBi*kuBn*kuAa*kbAi*A+ktia0*ktiaA*ktniA*kuBa*kuBi*kuBn*kuAa*kbAn*A+ktiaA*ktniA*kuBa*kuBi*kuBn*kuAa*kbAi*A*kbAn*A+ktin0*ktiaA*ktniA*kuBa*kuBi*kuBn*kuAa*kbAn*A+ktia0*ktni0*ktiaA*ktniA*ktniB*kuBa*kuBi*kuAa+ktni0*ktiaA*ktniA*ktniB*kuBa*kuBi*kuAa*kbAi*A+ktia0*ktiaA*ktniA*ktniB*kuBa*kuBi*kuAa*kbAn*A+ktiaA*ktniA*ktniB*kuBa*kuBi*kuAa*kbAi*A*kbAn*A+ktin0*ktiaA*ktniA*ktniB*kuBa*kuBi*kuAa*kbAn*A+ktia0*ktiaA*ktniA*ktniB*kuBa*kuBi*kbBn*B*kuAa+ktiaA*ktniA*ktniB*kuBa*kuBi*kbBn*B*kuAa*kbAi*A+ktia0*ktni0*ktiaA*ktniA*ktanB*ktniB*kuBi*kuAa+ktni0*ktiaA*ktniA*ktanB*ktniB*kuBi*kuAa*kbAi*A+ktia0*ktiaA*ktniA*ktanB*ktniB*kuBi*kuAa*kbAn*A+ktiaA*ktniA*ktanB*ktniB*kuBi*kuAa*kbAi*A*kbAn*A+ktin0*ktiaA*ktniA*ktanB*ktniB*kuBi*kuAa*kbAn*A+ktia0*ktiaA*ktniA*ktanB*ktniB*kuBi*kbBn*B*kuAa+ktiaA*ktniA*ktanB*ktniB*kuBi*kbBn*B*kuAa*kbAi*A+ktia0*ktiaA*ktniA*ktiaB*ktanB*kuBn*kuAa*kbAn*A+ktiaA*ktniA*ktiaB*ktanB*kuBn*kuAa*kbAi*A*kbAn*A+ktiaA*ktniA*ktiaB*ktanB*kbBi*B*kuBn*kuAa*kbAn*A+ktin0*ktiaA*ktniA*ktiaB*ktanB*kuBn*kuAa*kbAn*A+ktia0*ktni0*ktiaA*ktniA*ktiaB*kuBa*kuBn*kuAa+ktni0*ktiaA*ktniA*ktiaB*kuBa*kuBn*kuAa*kbAi*A+ktni0*ktiaA*ktniA*ktiaB*kuBa*kbBi*B*kuBn*kuAa+ktia0*ktiaA*ktniA*ktiaB*kuBa*kuBn*kuAa*kbAn*A+ktiaA*ktniA*ktiaB*kuBa*kuBn*kuAa*kbAi*A*kbAn*A+ktiaA*ktniA*ktiaB*kuBa*kbBi*B*kuBn*kuAa*kbAn*A+ktin0*ktiaA*ktniA*ktiaB*kuBa*kuBn*kuAa*kbAn*A+ktia0*ktni0*ktiaA*ktniA*ktiaB*ktniB*kuBa*kuAa+ktni0*ktiaA*ktniA*ktiaB*ktniB*kuBa*kuAa*kbAi*A+ktni0*ktiaA*ktniA*ktiaB*ktniB*kuBa*kbBi*B*kuAa+ktia0*ktiaA*ktniA*ktiaB*ktniB*kuBa*kuAa*kbAn*A+ktiaA*ktniA*ktiaB*ktniB*kuBa*kuAa*kbAi*A*kbAn*A+ktiaA*ktniA*ktiaB*ktniB*kuBa*kbBi*B*kuAa*kbAn*A+ktin0*ktiaA*ktniA*ktiaB*ktniB*kuBa*kuAa*kbAn*A+ktia0*ktiaA*ktniA*ktiaB*ktniB*kuBa*kbBn*B*kuAa+ktiaA*ktniA*ktiaB*ktniB*kuBa*kbBn*B*kuAa*kbAi*A+ktiaA*ktniA*ktiaB*ktniB*kuBa*kbBi*B*kbBn*B*kuAa+ktin0*ktiaA*ktniA*ktiaB*ktniB*kuBa*kbBn*B*kuAa+ktia0*ktni0*ktiaA*ktanB*kuBi*kuBn*kuAa*kuAn+ktni0*ktiaA*ktanB*kuBi*kuBn*kuAa*kbAi*A*kuAn+ktia0*ktni0*ktiaA*kuBa*kuBi*kuBn*kuAa*kuAn+ktni0*ktiaA*kuBa*kuBi*kuBn*kuAa*kbAi*A*kuAn+ktia0*ktni0*ktiaA*ktniB*kuBa*kuBi*kuAa*kuAn+ktni0*ktiaA*ktniB*kuBa*kuBi*kuAa*kbAi*A*kuAn+ktia0*ktiaA*ktniB*kuBa*kuBi*kbBn*B*kuAa*kuAn+ktiaA*ktniB*kuBa*kuBi*kbBn*B*kuAa*kbAi*A*kuAn+ktia0*ktni0*ktiaA*ktanB*ktniB*kuBi*kuAa*kuAn+ktni0*ktiaA*ktanB*ktniB*kuBi*kuAa*kbAi*A*kuAn+ktia0*ktiaA*ktanB*ktniB*kuBi*kbBn*B*kuAa*kuAn+ktiaA*ktanB*ktniB*kuBi*kbBn*B*kuAa*kbAi*A*kuAn+ktia0*ktni0*ktiaA*ktiaB*kuBa*kuBn*kuAa*kuAn+ktni0*ktiaA*ktiaB*kuBa*kuBn*kuAa*kbAi*A*kuAn+ktni0*ktiaA*ktiaB*kuBa*kbBi*B*kuBn*kuAa*kuAn+ktia0*ktni0*ktiaA*ktiaB*ktniB*kuBa*kuAa*kuAn+ktni0*ktiaA*ktiaB*ktniB*kuBa*kuAa*kbAi*A*kuAn+ktni0*ktiaA*ktiaB*ktniB*kuBa*kbBi*B*kuAa*kuAn+ktia0*ktiaA*ktiaB*ktniB*kuBa*kbBn*B*kuAa*kuAn+ktiaA*ktiaB*ktniB*kuBa*kbBn*B*kuAa*kbAi*A*kuAn+ktiaA*ktiaB*ktniB*kuBa*kbBi*B*kbBn*B*kuAa*kuAn+ktin0*ktiaA*ktiaB*ktniB*kuBa*kbBn*B*kuAa*kuAn+ktia0*ktni0*ktiaA*ktanA*ktanB*ktinB*kuBn*kuAn+ktia0*ktni0*ktiaA*ktanA*ktinB*kuBa*kuBn*kuAn+ktia0*ktni0*ktiaA*ktanA*ktanB*kuBi*kuBn*kuAn+ktia0*ktni0*ktanA*ktinA*ktanB*kuBi*kuBn*kuAn+ktia0*ktni0*ktanA*ktinA*kuBa*kuBi*kuBn*kuAn+ktia0*ktni0*ktanA*ktinA*ktniB*kuBa*kuBi*kuAn+ktia0*ktanA*ktinA*ktniB*kuBa*kuBi*kbBn*B*kuAn+ktia0*ktni0*ktinA*ktniB*kuBa*kuBi*kuAa*kuAn+ktia0*ktinA*ktniB*kuBa*kuBi*kbBn*B*kuAa*kuAn+ktia0*ktni0*ktinA*kuBa*kuBi*kuBn*kuAa*kuAn+ktia0*ktni0*ktanA*ktinA*ktanB*ktniB*kuBi*kuAn+ktia0*ktanA*ktinA*ktanB*ktniB*kuBi*kbBn*B*kuAn+ktia0*ktni0*ktinA*ktanB*ktniB*kuBi*kuAa*kuAn+ktia0*ktinA*ktanB*ktniB*kuBi*kbBn*B*kuAa*kuAn+ktia0*ktni0*ktinA*ktanB*kuBi*kuBn*kuAa*kuAn+ktia0*ktni0*ktiaA*ktanA*kuBa*kuBi*kuBn*kuAn+ktia0*ktni0*ktiaA*ktanA*ktniB*kuBa*kuBi*kuAn+ktia0*ktiaA*ktanA*ktniB*kuBa*kuBi*kbBn*B*kuAn+ktia0*ktni0*ktiaA*ktanA*ktanB*ktniB*kuBi*kuAn+ktia0*ktiaA*ktanA*ktanB*ktniB*kuBi*kbBn*B*kuAn+ktia0*ktni0*ktanA*ktinA*ktiaB*ktanB*kuBn*kuAn+ktia0*ktni0*ktanA*ktinA*ktanB*ktinB*kuBn*kuAn+ktia0*ktni0*ktanA*ktinA*ktinB*kuBa*kuBn*kuAn+ktia0*ktni0*ktinA*ktiaB*ktanB*kuBn*kuAa*kuAn+ktia0*ktni0*ktinA*ktanB*ktinB*kuBn*kuAa*kuAn+ktia0*ktni0*ktinA*ktinB*kuBa*kuBn*kuAa*kuAn+ktia0*ktni0*ktinA*ktiaB*kuBa*kuBn*kuAa*kuAn+ktni0*ktinA*ktiaB*kuBa*kbBi*B*kuBn*kuAa*kuAn+ktia0*ktni0*ktinA*ktiaB*ktniB*kuBa*kuAa*kuAn+ktni0*ktinA*ktiaB*ktniB*kuBa*kbBi*B*kuAa*kuAn+ktia0*ktinA*ktiaB*ktniB*kuBa*kbBn*B*kuAa*kuAn+ktinA*ktiaB*ktniB*kuBa*kbBn*B*kuAa*kbAi*A*kuAn+ktinA*ktiaB*ktniB*kuBa*kbBi*B*kbBn*B*kuAa*kuAn+ktin0*ktinA*ktiaB*ktniB*kuBa*kbBn*B*kuAa*kuAn+ktia0*ktni0*ktanA*ktinA*ktiaB*kuBa*kuBn*kuAn+ktni0*ktanA*ktinA*ktiaB*kuBa*kbBi*B*kuBn*kuAn+ktia0*ktni0*ktanA*ktinA*ktiaB*ktniB*kuBa*kuAn+ktni0*ktanA*ktinA*ktiaB*ktniB*kuBa*kbBi*B*kuAn+ktia0*ktanA*ktinA*ktiaB*ktniB*kuBa*kbBn*B*kuAn+ktanA*ktinA*ktiaB*ktniB*kuBa*kbBn*B*kbAi*A*kuAn+ktanA*ktinA*ktiaB*ktniB*kuBa*kbBi*B*kbBn*B*kuAn+ktin0*ktanA*ktinA*ktiaB*ktniB*kuBa*kbBn*B*kuAn+ktia0*ktni0*ktiaA*ktanA*ktiaB*kuBa*kuBn*kuAn+ktni0*ktiaA*ktanA*ktiaB*kuBa*kbBi*B*kuBn*kuAn+ktia0*ktni0*ktiaA*ktanA*ktiaB*ktniB*kuBa*kuAn+ktia0*ktiaA*ktanA*ktiaB*ktniB*kuBa*kbBn*B*kuAn+ktiaA*ktanA*ktiaB*ktniB*kuBa*kbBn*B*kbAi*A*kuAn+ktiaA*ktanA*ktiaB*ktniB*kuBa*kbBi*B*kbBn*B*kuAn+ktin0*ktiaA*ktanA*ktiaB*ktniB*kuBa*kbBn*B*kuAn+ktni0*ktiaA*ktanA*ktiaB*ktniB*kuBa*kbBi*B*kuAn'"
      ]
     },
     "execution_count": 6,
     "metadata": {},
     "output_type": "execute_result"
    }
   ],
   "source": [
    "obj.all_rhos[0]"
   ]
  },
  {
   "cell_type": "code",
   "execution_count": 7,
   "metadata": {},
   "outputs": [
    {
     "name": "stdout",
     "output_type": "stream",
     "text": [
      "writing mathematica file. max1 set to True\n",
      "ktia0_,ktan0_,ktin0_,ktni0_,ktiaA_,ktanA_,ktinA_,ktniA_,ktiaB_,ktanB_,ktinB_,ktniB_,kbBa_,kuBa_,kbBi_,kuBi_,kbBn_,kuBn_,kbAa_,kuAa_,kbAi_,kuAi_,kbAn_,kuAn_,\n",
      "writing mathematica file. max1 set to True\n",
      "ktia0_,ktan0_,ktin0_,ktni0_,ktiaA_,ktanA_,ktinA_,ktniA_,ktiaB_,ktanB_,ktinB_,ktniB_,kbBa_,kuBa_,kbBi_,kuBi_,kbBn_,kuBn_,kbAa_,kuAa_,kbAi_,kuAi_,kbAn_,kuAn_,\n",
      "c++ -O2 -DNDEBUG -Wall -shared -std=c++11  -fPIC -undefined dynamic_lookup -I /Users/rosamartinezcorral/Documents/eigenlibrary/eigen-eigen-323c052e1731/ -I \"/Users/rosamartinezcorral/Dropbox (HMS)/work2/shared/utilsGRF\" -lmpfr -lmpc -I \"/Users/rosamartinezcorral/Dropbox (HMS)/work2/shared_fromothers/polynomials/include/polynomial/\"  `python3 -m pybind11 --includes` ./bin/PolAB_A_allpars.cpp -o ./bin/PolAB_A_allpars`python3-config --extension-suffix`\n",
      "In file included from ./bin/PolAB_A_allpars.cpp:12:\n",
      "\u001b[1m/Users/rosamartinezcorral/Dropbox (HMS)/work2/shared/utilsGRF/posstpfunc_cpp_longdouble.h:52:12: \u001b[0m\u001b[0;1;35mwarning: \u001b[0m\u001b[1m\n",
      "      unused variable 'root' [-Wunused-variable]\u001b[0m\n",
      "    double root;\n",
      "\u001b[0;1;32m           ^\n",
      "\u001b[0m\u001b[1m/Users/rosamartinezcorral/Dropbox (HMS)/work2/shared/utilsGRF/posstpfunc_cpp_longdouble.h:102:43: \u001b[0m\u001b[0;1;35mwarning: \u001b[0m\u001b[1m\n",
      "      unused variable 'j' [-Wunused-variable]\u001b[0m\n",
      "    std::vector<long double>::size_type i,j, Nrows, lastidx;\n",
      "\u001b[0;1;32m                                          ^\n",
      "\u001b[0m\u001b[1m/Users/rosamartinezcorral/Dropbox (HMS)/work2/shared/utilsGRF/posstpfunc_cpp_longdouble.h:211:89: \u001b[0m\u001b[0;1;35mwarning: \u001b[0m\u001b[1m\n",
      "      unused variable 'j' [-Wunused-variable]\u001b[0m\n",
      "  ...double>::size_type nnum, nden, degreenum, degreeden, degreesum, i, j;\n",
      "\u001b[0;1;32m                                                                        ^\n",
      "\u001b[0m\u001b[1m/Users/rosamartinezcorral/Dropbox (HMS)/work2/shared/utilsGRF/posstpfunc_cpp_longdouble.h:440:34: \u001b[0m\u001b[0;1;35mwarning: \u001b[0m\u001b[1m\n",
      "      format specifies type 'int' but the argument has type\n",
      "      'std::__1::vector<long double, std::__1::allocator<long double>\n",
      "      >::size_type' (aka 'unsigned long') [-Wformat]\u001b[0m\n",
      "        printf(\"num %d, den %d\", derivative2num.size(),derivative2den.size());\n",
      "\u001b[0;1;32m                    ~~           ^~~~~~~~~~~~~~~~~~~~~\n",
      "\u001b[0m\u001b[0;32m                    %lu\n",
      "\u001b[0m\u001b[1m/Users/rosamartinezcorral/Dropbox (HMS)/work2/shared/utilsGRF/posstpfunc_cpp_longdouble.h:440:56: \u001b[0m\u001b[0;1;35mwarning: \u001b[0m\u001b[1m\n",
      "      format specifies type 'int' but the argument has type\n",
      "      'std::__1::vector<long double, std::__1::allocator<long double>\n",
      "      >::size_type' (aka 'unsigned long') [-Wformat]\u001b[0m\n",
      "        printf(\"num %d, den %d\", derivative2num.size(),derivative2den.size());\n",
      "\u001b[0;1;32m                            ~~                         ^~~~~~~~~~~~~~~~~~~~~\n",
      "\u001b[0m\u001b[0;32m                            %lu\n",
      "\u001b[0m\u001b[1m/Users/rosamartinezcorral/Dropbox (HMS)/work2/shared/utilsGRF/posstpfunc_cpp_longdouble.h:520:21: \u001b[0m\u001b[0;1;35mwarning: \u001b[0m\u001b[1m\n",
      "      unused variable 'mincritpoint' [-Wunused-variable]\u001b[0m\n",
      "        long double mincritpoint;\n",
      "\u001b[0;1;32m                    ^\n",
      "\u001b[0m\u001b[1m/Users/rosamartinezcorral/Dropbox (HMS)/work2/shared/utilsGRF/posstpfunc_cpp_longdouble.h:521:32: \u001b[0m\u001b[0;1;35mwarning: \u001b[0m\u001b[1m\n",
      "      unused variable 'thirdderx0' [-Wunused-variable]\u001b[0m\n",
      "        long double thirdderx, thirdderx0;\n",
      "\u001b[0;1;32m                               ^\n",
      "\u001b[0m\u001b[1m/Users/rosamartinezcorral/Dropbox (HMS)/work2/shared/utilsGRF/posstpfunc_cpp_longdouble.h:371:12: \u001b[0m\u001b[0;1;35mwarning: \u001b[0m\u001b[1m\n",
      "      unused variable 'x05double' [-Wunused-variable]\u001b[0m\n",
      "    double x05double = (double) x05;\n",
      "\u001b[0;1;32m           ^\n",
      "\u001b[0m\u001b[1m/Users/rosamartinezcorral/Dropbox (HMS)/work2/shared/utilsGRF/posstpfunc_cpp_longdouble.h:636:17: \u001b[0m\u001b[0;1;35mwarning: \u001b[0m\u001b[1m\n",
      "      unused variable 'i1' [-Wunused-variable]\u001b[0m\n",
      "    long double i1;\n",
      "\u001b[0;1;32m                ^\n",
      "\u001b[0m\u001b[1m/Users/rosamartinezcorral/Dropbox (HMS)/work2/shared/utilsGRF/posstpfunc_cpp_longdouble.h:635:44: \u001b[0m\u001b[0;1;35mwarning: \u001b[0m\u001b[1m\n",
      "      unused variable 'j' [-Wunused-variable]\u001b[0m\n",
      "    std::vector<long double>::size_type i, j, nnum, nden;\n",
      "\u001b[0;1;32m                                           ^\n",
      "\u001b[0m\u001b[1m/Users/rosamartinezcorral/Dropbox (HMS)/work2/shared/utilsGRF/posstpfunc_cpp_longdouble.h:637:17: \u001b[0m\u001b[0;1;35mwarning: \u001b[0m\u001b[1m\n",
      "      unused variable 'i2' [-Wunused-variable]\u001b[0m\n",
      "    long double i2;\n",
      "\u001b[0;1;32m                ^\n",
      "\u001b[0m11 warnings generated.\n"
     ]
    }
   ],
   "source": [
    "fname='./bin/PolAB_A_allpars.cpp'\n",
    "typestring='long double'\n",
    "funcname='GRF_PolAB_A'\n",
    "obj.write_pybind_interface(fname=fname, funcname=funcname, typestring='long double')\n",
    "obj.write_checkfile_mathematica_singlevar(fname=fname.replace('.cpp','.wl'),additionallinespars=\"B=1;\\n\")\n",
    "obj.write_checksingleparset_mathematica_singlevar(fname=fname.replace('.cpp','.nb'),additionallinespars=\"B=1;\\n\")\n",
    "\n",
    "filename=fname\n",
    "path_1,file=os.path.split(fname)\n",
    "\n",
    "#objectnamelinux=os.path.join('cflinux',file.replace('.cpp',''))\n",
    "objectnamemac=fname.replace('.cpp','')\n",
    "\n",
    "#compilestringlinux=\"c++ -O2 -DNDEBUG -Wall -shared -std=c++11  -fPIC -I /home/rosamc/eigenlibrary/eigen-git-mirror -I ../shared/utilsGRF  `python3 -m pybind11 --includes` %s -o %s`python3-config --extension-suffix`\"%(filename,objectnamelinux)\n",
    "compilestringmac=\"c++ -O2 -DNDEBUG -Wall -shared -std=c++11  -fPIC -undefined dynamic_lookup -I %s -I %s -lmpfr -lmpc -I %s  `python3 -m pybind11 --includes` %s -o %s`python3-config --extension-suffix`\"%(path_to_eigen,path_to_utilsGRF,path_to_polynomials,filename,objectnamemac)\n",
    "\n",
    "compilestring=compilestringmac\n",
    "print(compilestring)\n",
    "\n",
    "! $compilestring"
   ]
  },
  {
   "cell_type": "code",
   "execution_count": 4,
   "metadata": {},
   "outputs": [
    {
     "name": "stdout",
     "output_type": "stream",
     "text": [
      "c++ -O2 -DNDEBUG -Wall -shared -std=c++11  -fPIC -undefined dynamic_lookup -I /Users/rosamartinezcorral/Documents/eigenlibrary/eigen-eigen-323c052e1731/ -I \"/Users/rosamartinezcorral/Dropbox (HMS)/work2/shared/utilsGRF\" -lmpfr -lmpc -I \"/Users/rosamartinezcorral/Dropbox (HMS)/work2/shared_fromothers/polynomials/include/polynomial/\"  `python3 -m pybind11 --includes` ./bin/PolAB_A_allpars.cpp -o ./bin/PolAB_A_allpars`python3-config --extension-suffix`\n",
      "In file included from ./bin/PolAB_A_allpars.cpp:12:\n",
      "\u001b[1m/Users/rosamartinezcorral/Dropbox (HMS)/work2/shared/utilsGRF/posstpfunc_cpp_longdouble.h:52:12: \u001b[0m\u001b[0;1;35mwarning: \u001b[0m\u001b[1munused variable 'root' [-Wunused-variable]\u001b[0m\n",
      "    double root;\n",
      "\u001b[0;1;32m           ^\n",
      "\u001b[0m\u001b[1m/Users/rosamartinezcorral/Dropbox (HMS)/work2/shared/utilsGRF/posstpfunc_cpp_longdouble.h:102:43: \u001b[0m\u001b[0;1;35mwarning: \u001b[0m\u001b[1munused variable 'j' [-Wunused-variable]\u001b[0m\n",
      "    std::vector<long double>::size_type i,j, Nrows, lastidx;\n",
      "\u001b[0;1;32m                                          ^\n",
      "\u001b[0m\u001b[1m/Users/rosamartinezcorral/Dropbox (HMS)/work2/shared/utilsGRF/posstpfunc_cpp_longdouble.h:211:89: \u001b[0m\u001b[0;1;35mwarning: \u001b[0m\u001b[1munused variable 'j' [-Wunused-variable]\u001b[0m\n",
      "    std::vector<long double>::size_type nnum, nden, degreenum, degreeden, degreesum, i, j;\n",
      "\u001b[0;1;32m                                                                                        ^\n",
      "\u001b[0m\u001b[1m/Users/rosamartinezcorral/Dropbox (HMS)/work2/shared/utilsGRF/posstpfunc_cpp_longdouble.h:441:34: \u001b[0m\u001b[0;1;35mwarning: \u001b[0m\u001b[1mformat specifies type 'int' but the argument has type 'std::vector<long double>::size_type' (aka 'unsigned long') [-Wformat]\u001b[0m\n",
      "        printf(\"num %d, den %d\", derivative2num.size(),derivative2den.size());\n",
      "\u001b[0;1;32m                    ~~           ^~~~~~~~~~~~~~~~~~~~~\n",
      "\u001b[0m\u001b[0;32m                    %lu\n",
      "\u001b[0m\u001b[1m/Users/rosamartinezcorral/Dropbox (HMS)/work2/shared/utilsGRF/posstpfunc_cpp_longdouble.h:441:56: \u001b[0m\u001b[0;1;35mwarning: \u001b[0m\u001b[1mformat specifies type 'int' but the argument has type 'std::vector<long double>::size_type' (aka 'unsigned long') [-Wformat]\u001b[0m\n",
      "        printf(\"num %d, den %d\", derivative2num.size(),derivative2den.size());\n",
      "\u001b[0;1;32m                            ~~                         ^~~~~~~~~~~~~~~~~~~~~\n",
      "\u001b[0m\u001b[0;32m                            %lu\n",
      "\u001b[0m\u001b[1m/Users/rosamartinezcorral/Dropbox (HMS)/work2/shared/utilsGRF/posstpfunc_cpp_longdouble.h:521:21: \u001b[0m\u001b[0;1;35mwarning: \u001b[0m\u001b[1munused variable 'mincritpoint' [-Wunused-variable]\u001b[0m\n",
      "        long double mincritpoint;\n",
      "\u001b[0;1;32m                    ^\n",
      "\u001b[0m\u001b[1m/Users/rosamartinezcorral/Dropbox (HMS)/work2/shared/utilsGRF/posstpfunc_cpp_longdouble.h:522:32: \u001b[0m\u001b[0;1;35mwarning: \u001b[0m\u001b[1munused variable 'thirdderx0' [-Wunused-variable]\u001b[0m\n",
      "        long double thirdderx, thirdderx0;\n",
      "\u001b[0;1;32m                               ^\n",
      "\u001b[0m\u001b[1m/Users/rosamartinezcorral/Dropbox (HMS)/work2/shared/utilsGRF/posstpfunc_cpp_longdouble.h:372:12: \u001b[0m\u001b[0;1;35mwarning: \u001b[0m\u001b[1munused variable 'x05double' [-Wunused-variable]\u001b[0m\n",
      "    double x05double = (double) x05;\n",
      "\u001b[0;1;32m           ^\n",
      "\u001b[0m\u001b[1m/Users/rosamartinezcorral/Dropbox (HMS)/work2/shared/utilsGRF/posstpfunc_cpp_longdouble.h:676:17: \u001b[0m\u001b[0;1;35mwarning: \u001b[0m\u001b[1munused variable 'i2' [-Wunused-variable]\u001b[0m\n",
      "    long double i2;\n",
      "\u001b[0;1;32m                ^\n",
      "\u001b[0m\u001b[1m/Users/rosamartinezcorral/Dropbox (HMS)/work2/shared/utilsGRF/posstpfunc_cpp_longdouble.h:674:44: \u001b[0m\u001b[0;1;35mwarning: \u001b[0m\u001b[1munused variable 'j' [-Wunused-variable]\u001b[0m\n",
      "    std::vector<long double>::size_type i, j, nnum, nden;\n",
      "\u001b[0;1;32m                                           ^\n",
      "\u001b[0m\u001b[1m/Users/rosamartinezcorral/Dropbox (HMS)/work2/shared/utilsGRF/posstpfunc_cpp_longdouble.h:675:17: \u001b[0m\u001b[0;1;35mwarning: \u001b[0m\u001b[1munused variable 'i1' [-Wunused-variable]\u001b[0m\n",
      "    long double i1;\n",
      "\u001b[0;1;32m                ^\n",
      "\u001b[0m11 warnings generated.\n"
     ]
    }
   ],
   "source": [
    "#compile again after upgrading MacOS\n",
    "fname='./bin/PolAB_A_allpars.cpp'\n",
    "typestring='long double'\n",
    "funcname='GRF_PolAB_A'\n",
    "#obj.write_pybind_interface(fname=fname, funcname=funcname, typestring='long double')\n",
    "#obj.write_checkfile_mathematica_singlevar(fname=fname.replace('.cpp','.wl'),additionallinespars=\"B=1;\\n\")\n",
    "#obj.write_checksingleparset_mathematica_singlevar(fname=fname.replace('.cpp','.nb'),additionallinespars=\"B=1;\\n\")\n",
    "\n",
    "filename=fname\n",
    "path_1,file=os.path.split(fname)\n",
    "\n",
    "#objectnamelinux=os.path.join('cflinux',file.replace('.cpp',''))\n",
    "objectnamemac=fname.replace('.cpp','')\n",
    "\n",
    "#compilestringlinux=\"c++ -O2 -DNDEBUG -Wall -shared -std=c++11  -fPIC -I /home/rosamc/eigenlibrary/eigen-git-mirror -I ../shared/utilsGRF  `python3 -m pybind11 --includes` %s -o %s`python3-config --extension-suffix`\"%(filename,objectnamelinux)\n",
    "compilestringmac=\"c++ -O2 -DNDEBUG -Wall -shared -std=c++11  -fPIC -undefined dynamic_lookup -I %s -I %s -lmpfr -lmpc -I %s  `python3 -m pybind11 --includes` %s -o %s`python3-config --extension-suffix`\"%(path_to_eigen,path_to_utilsGRF,path_to_polynomials,filename,objectnamemac)\n",
    "\n",
    "compilestring=compilestringmac\n",
    "print(compilestring)\n",
    "\n",
    "! $compilestring"
   ]
  },
  {
   "cell_type": "code",
   "execution_count": 4,
   "metadata": {},
   "outputs": [
    {
     "name": "stdout",
     "output_type": "stream",
     "text": [
      "c++ -O2 -DNDEBUG -Wall -shared -std=c++11  -fPIC -undefined dynamic_lookup -I /Users/rosamartinezcorral/Documents/eigenlibrary/eigen-eigen-323c052e1731/ -I \"/Users/rosamartinezcorral/Dropbox (HMS)/work2/shared/utilsGRF\" -lmpfr -lmpc -I \"/Users/rosamartinezcorral/Dropbox (HMS)/work2/shared_fromothers/polynomials/include/polynomial/\"  `python3 -m pybind11 --includes` ./bin/bPcycle_2bs_3states_rev1_A_B_ssonly.cpp -o ./bin/bPcycle_2bs_3states_rev1_A_B_ssonly`python3-config --extension-suffix`\n",
      "In file included from ./bin/bPcycle_2bs_3states_rev1_A_B_ssonly.cpp:12:\n",
      "In file included from /Users/rosamartinezcorral/Dropbox (HMS)/work2/shared/utilsGRF/pos_stp_fromGRF.h:6:\n",
      "\u001b[1m/Users/rosamartinezcorral/Dropbox (HMS)/work2/shared/utilsGRF/solvenullspace.h:74:20: \u001b[0m\u001b[0;1;35mwarning: \u001b[0m\u001b[1munused variable 'c' [-Wunused-variable]\u001b[0m\n",
      "    unsigned int r,c,i;\n",
      "\u001b[0;1;32m                   ^\n",
      "\u001b[0mIn file included from ./bin/bPcycle_2bs_3states_rev1_A_B_ssonly.cpp:12:\n",
      "\u001b[1m/Users/rosamartinezcorral/Dropbox (HMS)/work2/shared/utilsGRF/pos_stp_fromGRF.h:169:9: \u001b[0m\u001b[0;1;35mwarning: \u001b[0m\u001b[1munused variable 'n' [-Wunused-variable]\u001b[0m\n",
      "    int n=L_.rows(); //L is square so this is number of rows/columns\n",
      "\u001b[0;1;32m        ^\n",
      "\u001b[0m\u001b[1m/Users/rosamartinezcorral/Dropbox (HMS)/work2/shared/utilsGRF/pos_stp_fromGRF.h:170:9: \u001b[0m\u001b[0;1;35mwarning: \u001b[0m\u001b[1munused variable 'i' [-Wunused-variable]\u001b[0m\n",
      "    int i, j;\n",
      "\u001b[0;1;32m        ^\n",
      "\u001b[0m\u001b[1m/Users/rosamartinezcorral/Dropbox (HMS)/work2/shared/utilsGRF/pos_stp_fromGRF.h:170:12: \u001b[0m\u001b[0;1;35mwarning: \u001b[0m\u001b[1munused variable 'j' [-Wunused-variable]\u001b[0m\n",
      "    int i, j;\n",
      "\u001b[0;1;32m           ^\n",
      "\u001b[0m\u001b[1m./bin/bPcycle_2bs_3states_rev1_A_B_ssonly.cpp:28:9: \u001b[0m\u001b[0;1;35mwarning: \u001b[0m\u001b[1munused variable 'n' [-Wunused-variable]\u001b[0m\n",
      "    int n=12;\n",
      "\u001b[0;1;32m        ^\n",
      "\u001b[0m5 warnings generated.\n"
     ]
    }
   ],
   "source": [
    "#this cpp file was written on another occasion, just compiled here\n",
    "fname='./bin/bPcycle_2bs_3states_rev1_A_B_ssonly.cpp'\n",
    "\n",
    "filename=fname\n",
    "path_1,file=os.path.split(fname)\n",
    "\n",
    "#objectnamelinux=os.path.join('cflinux',file.replace('.cpp',''))\n",
    "objectnamemac=fname.replace('.cpp','')\n",
    "\n",
    "#compilestringlinux=\"c++ -O2 -DNDEBUG -Wall -shared -std=c++11  -fPIC -I /home/rosamc/eigenlibrary/eigen-git-mirror -I ../shared/utilsGRF  `python3 -m pybind11 --includes` %s -o %s`python3-config --extension-suffix`\"%(filename,objectnamelinux)\n",
    "compilestringmac=\"c++ -O2 -DNDEBUG -Wall -shared -std=c++11  -fPIC -undefined dynamic_lookup -I %s -I %s -lmpfr -lmpc -I %s  `python3 -m pybind11 --includes` %s -o %s`python3-config --extension-suffix`\"%(path_to_eigen,path_to_utilsGRF,path_to_polynomials,filename,objectnamemac)\n",
    "\n",
    "compilestring=compilestringmac\n",
    "print(compilestring)\n",
    "\n",
    "! $compilestring"
   ]
  },
  {
   "cell_type": "code",
   "execution_count": null,
   "metadata": {},
   "outputs": [],
   "source": []
  }
 ],
 "metadata": {
  "kernelspec": {
   "display_name": "Python 3",
   "language": "python",
   "name": "python3"
  },
  "language_info": {
   "codemirror_mode": {
    "name": "ipython",
    "version": 3
   },
   "file_extension": ".py",
   "mimetype": "text/x-python",
   "name": "python",
   "nbconvert_exporter": "python",
   "pygments_lexer": "ipython3",
   "version": "3.8.8"
  },
  "nbTranslate": {
   "displayLangs": [
    "*"
   ],
   "hotkey": "alt-t",
   "langInMainMenu": true,
   "sourceLang": "en",
   "targetLang": "fr",
   "useGoogleTranslate": true
  },
  "toc": {
   "base_numbering": 1,
   "nav_menu": {},
   "number_sections": true,
   "sideBar": true,
   "skip_h1_title": false,
   "title_cell": "Table of Contents",
   "title_sidebar": "Contents",
   "toc_cell": false,
   "toc_position": {},
   "toc_section_display": true,
   "toc_window_display": false
  }
 },
 "nbformat": 4,
 "nbformat_minor": 2
}
