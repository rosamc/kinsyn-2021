{
 "cells": [
  {
   "cell_type": "code",
   "execution_count": null,
   "metadata": {},
   "outputs": [],
   "source": []
  },
  {
   "cell_type": "code",
   "execution_count": 1,
   "metadata": {},
   "outputs": [],
   "source": [
    "import sys, os\n",
    "sys.path.append(\"../../../work2/ownutils/scriptssyn/\") #update path accordingly\n",
    "sys.path.append('./bin/')\n",
    "import PolAB_A_allpars\n",
    "import pandas as pd\n",
    "import numpy as np\n",
    "import matplotlib as mpl\n",
    "import matplotlib.pyplot as plt\n",
    "from basic import compute_synergy as compute_synergyb\n",
    "import matplotlib.colors as colors"
   ]
  },
  {
   "cell_type": "code",
   "execution_count": 2,
   "metadata": {},
   "outputs": [],
   "source": [
    "def compute_synergy(pars):\n",
    "    mstars=[]\n",
    "    for i in range(4):\n",
    "        if i==0:\n",
    "            A=0.0\n",
    "            B=0.0\n",
    "        elif i==1:\n",
    "            A=2.0\n",
    "            B=0.0\n",
    "        elif i==2:\n",
    "            A=0.0\n",
    "            B=2.0\n",
    "        else:\n",
    "            A=1.0\n",
    "            B=1.0\n",
    "        m=PolAB_A_allpars.interface_GRF_PolAB_A_A(pars.copy(),np.array([B]),A)\n",
    "        mstars.append(m)\n",
    "    SAB=np.log2(mstars[3]/mstars[1])\n",
    "    SBA=np.log2(mstars[3]/mstars[2])\n",
    "    if mstars[1]<mstars[2]: #due to accuracies when saving parameters, sometimes I do not recover exactly what was saved\n",
    "        #print(\"wrong order\", mstars[1],mstars[2])\n",
    "        #sys.exit()\n",
    "        #print(\"changing order\")\n",
    "        return None #[SBA,SAB]\n",
    "    else:\n",
    "        #print(\"Afirst\")\n",
    "        return [SAB,SBA]"
   ]
  },
  {
   "cell_type": "markdown",
   "metadata": {},
   "source": [
    "Check one parameter set for Fig. 4."
   ]
  },
  {
   "cell_type": "code",
   "execution_count": 4,
   "metadata": {},
   "outputs": [],
   "source": [
    "k1_0 = 4.288\n",
    "k2_0 = 11.023\n",
    "k3_0 = 3.414\n",
    "k4_0 = 10.362\n",
    "kb = 180.19\n",
    "#TF associated parameter values are as follows: pndd : \n",
    "k1_A = 120.985\n",
    "k2_A = 154.358\n",
    "k3_A = 4.561\n",
    "k4_A = 2.854\n",
    "k1_B = 5.007\n",
    "k2_B = 25.685\n",
    "k3_B = 15.086\n",
    "k4_B = 2.083\n",
    "#; pndi : k1,A = 6.317, k2,A = 517.659, k3,A = 1433.877, k4,A = 1.095, k1,B = 11.275, k2,B = 326.127, k3,B = 15.328, k4,B = 10.223; npii : k1,A = 4.844, k2,A = 6345.641, k3,A = 151.500, k4,A = 7.354, k1,B = 4.504, k2,B = 17.664, k3,B = 2601.429, k4,B = 3.088; npid : k1,A = 6.784, k2,A = 740.850, k3,A = 56.436, k4,A = 2.010, k1,B = 4.821, k2,B = 11.997, k3,B = 909.506, k4,B = 8.354; ppii : k1,A = 937.265, k2,A = 8084.904, k3,A = 5.392, k4,A = 1.982, k1,B = 9.945, k2,B = 18.372, k3,B = 2047.513, k4,B = 8.447"
   ]
  },
  {
   "cell_type": "code",
   "execution_count": 5,
   "metadata": {},
   "outputs": [
    {
     "data": {
      "image/png": "[encoded data removed]",
      "text/plain": [
       "<Figure size 432x288 with 1 Axes>"
      ]
     },
     "metadata": {
      "needs_background": "light"
     },
     "output_type": "display_data"
    }
   ],
   "source": [
    "SABvals=[]\n",
    "SBAvals=[]\n",
    "for ku in np.logspace(2,4,10):\n",
    "    parset=np.array([k2_0,k3_0,k4_0,k1_0,k2_A,k3_A,k4_A,k1_A,k2_B,k3_B,k4_B,k1_B,kb,ku,kb,ku,kb,ku,kb,ku,kb,ku,kb,ku])\n",
    "    SAB,SBA=compute_synergy(parset)\n",
    "    SABvals.append(SAB)\n",
    "    SBAvals.append(SBA)\n",
    "\n",
    "plt.scatter(SABvals,SBAvals)\n",
    "plt.show()"
   ]
  },
  {
   "cell_type": "code",
   "execution_count": 5,
   "metadata": {},
   "outputs": [
    {
     "data": {
      "image/png": "[encoded data removed]",
      "text/plain": [
       "<Figure size 640x480 with 1 Axes>"
      ]
     },
     "metadata": {},
     "output_type": "display_data"
    }
   ],
   "source": []
  },
  {
   "cell_type": "code",
   "execution_count": 13,
   "metadata": {},
   "outputs": [
    {
     "name": "stdout",
     "output_type": "stream",
     "text": [
      "[0.0956060576718812, 0.7777567807737036, 0.7437923868951514, 0.7468626674578817] -0.058476082038919686 0.005943004443317073\n"
     ]
    }
   ],
   "source": [
    "pars=np.array([7.890542408335324,13.63253757013443,171.37765372083004,2.214471926581427,7.890542408335324,13.63253757013443,3.235013052936797,2.214471926581427,18.760264095437567,13.63253757013443,171.37765372083004,2.214471926581427,7386.718871521808,986.5909165513018,7386.718871521808,986.5909165513018,7386.718871521808,986.5909165513018,7386.718871521808,986.5909165513018,7386.718871521808,986.5909165513018,7386.718871521808,986.5909165513018])\n",
    "pars=np.array([7.890542408335324,13.63253757013443,171.37765372083004,2.214471926581427,\n",
    "               7.890542408335324,13.63253757013443,3.235013052936797,2.214471926581427,\n",
    "               100,13.63253757013443,171.37765372083004,2.214471926581427,\n",
    "               10**4,986.5909165513018,10**4,986.5909165513018,10**4,986.5909165513018,10**4,986.5909165513018,10**4,986.5909165513018,10**4,986.5909165513018])\n",
    "\n",
    "mstars=[]\n",
    "for i in range(4):\n",
    "    if i==0:\n",
    "        A=0.0\n",
    "        B=0.0\n",
    "    elif i==1:\n",
    "        A=2.0\n",
    "        B=0.0\n",
    "    elif i==2:\n",
    "        A=0.0\n",
    "        B=2.0\n",
    "    else:\n",
    "        A=1.0\n",
    "        B=1.0\n",
    "    m=PolAB_A_allpars.interface_GRF_PolAB_A_A(pars.copy(),np.array([B]),A)\n",
    "    mstars.append(m)\n",
    "if mstars[1]>mstars[2]:\n",
    "    SAB=np.log2(mstars[3]/mstars[1])\n",
    "    SBA=np.log2(mstars[3]/mstars[2])\n",
    "else:\n",
    "    SAB=np.log2(mstars[3]/mstars[2])\n",
    "    SBA=np.log2(mstars[3]/mstars[1])\n",
    "print(mstars,SAB,SBA)"
   ]
  },
  {
   "cell_type": "code",
   "execution_count": null,
   "metadata": {},
   "outputs": [],
   "source": []
  }
 ],
 "metadata": {
  "kernelspec": {
   "display_name": "Python 3",
   "language": "python",
   "name": "python3"
  },
  "language_info": {
   "codemirror_mode": {
    "name": "ipython",
    "version": 3
   },
   "file_extension": ".py",
   "mimetype": "text/x-python",
   "name": "python",
   "nbconvert_exporter": "python",
   "pygments_lexer": "ipython3",
   "version": "3.8.8"
  },
  "nbTranslate": {
   "displayLangs": [
    "*"
   ],
   "hotkey": "alt-t",
   "langInMainMenu": true,
   "sourceLang": "en",
   "targetLang": "fr",
   "useGoogleTranslate": true
  },
  "toc": {
   "base_numbering": 1,
   "nav_menu": {},
   "number_sections": true,
   "sideBar": true,
   "skip_h1_title": false,
   "title_cell": "Table of Contents",
   "title_sidebar": "Contents",
   "toc_cell": false,
   "toc_position": {},
   "toc_section_display": true,
   "toc_window_display": false
  }
 },
 "nbformat": 4,
 "nbformat_minor": 2
}
