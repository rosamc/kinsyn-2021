{
 "cells": [
  {
   "cell_type": "code",
   "execution_count": 1,
   "metadata": {},
   "outputs": [],
   "source": [
    "import numpy as np\n",
    "import matplotlib.pyplot as plt\n",
    "import matplotlib as mpl\n",
    "mpl.rcParams[\"font.size\"]=10"
   ]
  },
  {
   "cell_type": "code",
   "execution_count": 2,
   "metadata": {},
   "outputs": [],
   "source": [
    "#SP1\n",
    "doses=[125,250,500]\n",
    "GFP2=[1.68559,2.84942,3.74315]\n",
    "SEMs=[0.25591,0.12747,0.51599]"
   ]
  },
  {
   "cell_type": "code",
   "execution_count": 3,
   "metadata": {},
   "outputs": [
    {
     "data": {
      "image/png": "[encoded data removed]",
      "text/plain": [
       "<Figure size 144x72 with 1 Axes>"
      ]
     },
     "metadata": {
      "needs_background": "light"
     },
     "output_type": "display_data"
    }
   ],
   "source": [
    "#S3B\n",
    "fig,ax=plt.subplots(1,1,figsize=(2,1))\n",
    "ax.bar(range(3),GFP2,width=0.8,color=\"k\",yerr=SEMs,ecolor=\"gray\")\n",
    "ax.set_xticks(range(3))\n",
    "ax.set_xticklabels(map(str,doses))\n",
    "ax.set_xlabel(\"plasmid (ng)\")\n",
    "ax.set_ylabel(\"relative\\nnormalised\\n expression\")\n",
    "ax.set_yticks([1,2.5,4])\n",
    "ax.spines['right'].set_visible(False)\n",
    "ax.spines['top'].set_visible(False)\n",
    "#plt.savefig(\"../figs/qPCRSP1.pdf\",bbox_inches=\"tight\")\n",
    "plt.show()"
   ]
  },
  {
   "cell_type": "code",
   "execution_count": 4,
   "metadata": {},
   "outputs": [
    {
     "name": "stdout",
     "output_type": "stream",
     "text": [
      "3.2142857142857144\n",
      "3.5\n",
      "1.5 2.0\n"
     ]
    }
   ],
   "source": [
    "a1=1\n",
    "a2=5\n",
    "\n",
    "b1=3\n",
    "b2=3\n",
    "\n",
    "k1=1\n",
    "k2=1\n",
    "kab=(a1+b1+1)*k1*(a2+b2+1)*k2/((a1+b1+1)*k1+(a2+b2+1)*k2)\n",
    "kb=(0+b1+1)*k1*(0+b2+1)*k2/((0+b1+1)*k1+(0+b2+1)*k2)\n",
    "ka=(a1+0+1)*k1*(a2+0+1)*k2/((a1+0+1)*k1+(a2+0+1)*k2)\n",
    "print(kab)\n",
    "print(ka+kb)\n",
    "print(ka,kb)\n"
   ]
  },
  {
   "cell_type": "code",
   "execution_count": 5,
   "metadata": {},
   "outputs": [
    {
     "data": {
      "image/png": "[encoded data removed]",
      "text/plain": [
       "<Figure size 144x72 with 1 Axes>"
      ]
     },
     "metadata": {
      "needs_background": "light"
     },
     "output_type": "display_data"
    }
   ],
   "source": [
    "#This reproduces Fig S3D, but that one was made by Dhana Friedrich in matlab\n",
    "colorSP1=\"#bc5b2d\"\n",
    "colorcMyc=\"#030c7b\"\n",
    "\n",
    "transfection=[65.99,79.41,47.48]\n",
    "fig,ax=plt.subplots(1,1,figsize=(2,1))\n",
    "ax.bar(range(3),transfection,width=0.8,color=[colorcMyc,colorSP1,\"k\"])\n",
    "for i in range(3):\n",
    "    ax.text(i-0.4,transfection[i]*1.05,transfection[i])\n",
    "ax.set_xticks(range(3))\n",
    "ax.set_xticklabels([\"cMyc\",\"SP1\",\"cMyc/SP1\"])\n",
    "#ax.set_xlabel(\"plasmid (ng)\")\n",
    "ax.set_ylabel(\"transfeccion\\nefficiency (%)\")\n",
    "ax.set_yticks(range(0,110,20))\n",
    "ax.spines['right'].set_visible(False)\n",
    "ax.spines['top'].set_visible(False)\n",
    "#plt.savefig(\"../figs/IFtransfection.pdf\",bbox_inches=\"tight\")\n",
    "plt.show()"
   ]
  },
  {
   "cell_type": "code",
   "execution_count": 6,
   "metadata": {},
   "outputs": [],
   "source": [
    "#This can be used to look at the distributions of IF in response to cMyc, SP1, and the combination"
   ]
  },
  {
   "cell_type": "code",
   "execution_count": 7,
   "metadata": {},
   "outputs": [],
   "source": [
    "#data=np.loadtxt(\"/Users/rosamartinezcorral/Dropbox (HMS)/syn-dhana-rosa/2021_08_NewData_Dhana/SynTF abundance_IF/FI_cmyc_SP1_SP1cmyc_595.csv\",delimiter=\",\")\n",
    "data=np.loadtxt(\"./data/FI_cmyc_SP1_SP1cmyc_595.csv\",delimiter=\",\")"
   ]
  },
  {
   "cell_type": "code",
   "execution_count": 8,
   "metadata": {},
   "outputs": [
    {
     "data": {
      "text/plain": [
       "array([[ 70.117,  53.153,  57.545],\n",
       "       [ 78.887,  74.894,  52.214],\n",
       "       [ 80.105, 202.63 ,  58.821],\n",
       "       ...,\n",
       "       [    nan,  58.492,     nan],\n",
       "       [    nan, 113.44 ,     nan],\n",
       "       [    nan,  62.906,     nan]])"
      ]
     },
     "execution_count": 8,
     "metadata": {},
     "output_type": "execute_result"
    }
   ],
   "source": [
    "data"
   ]
  },
  {
   "cell_type": "code",
   "execution_count": 9,
   "metadata": {},
   "outputs": [],
   "source": [
    "import seaborn as sns\n",
    "import pandas as pd"
   ]
  },
  {
   "cell_type": "code",
   "execution_count": 10,
   "metadata": {},
   "outputs": [],
   "source": [
    "df=pd.DataFrame({\"cMyc\":data[:,0],\"SP1\":data[:,1],\"cMycSP1\":data[:,2]})"
   ]
  },
  {
   "cell_type": "code",
   "execution_count": 11,
   "metadata": {},
   "outputs": [
    {
     "data": {
      "text/html": [
       "<div>\n",
       "<style scoped>\n",
       "    .dataframe tbody tr th:only-of-type {\n",
       "        vertical-align: middle;\n",
       "    }\n",
       "\n",
       "    .dataframe tbody tr th {\n",
       "        vertical-align: top;\n",
       "    }\n",
       "\n",
       "    .dataframe thead th {\n",
       "        text-align: right;\n",
       "    }\n",
       "</style>\n",
       "<table border=\"1\" class=\"dataframe\">\n",
       "  <thead>\n",
       "    <tr style=\"text-align: right;\">\n",
       "      <th></th>\n",
       "      <th>variable</th>\n",
       "      <th>value</th>\n",
       "    </tr>\n",
       "  </thead>\n",
       "  <tbody>\n",
       "    <tr>\n",
       "      <th>0</th>\n",
       "      <td>cMyc</td>\n",
       "      <td>70.117</td>\n",
       "    </tr>\n",
       "    <tr>\n",
       "      <th>1</th>\n",
       "      <td>cMyc</td>\n",
       "      <td>78.887</td>\n",
       "    </tr>\n",
       "    <tr>\n",
       "      <th>2</th>\n",
       "      <td>cMyc</td>\n",
       "      <td>80.105</td>\n",
       "    </tr>\n",
       "    <tr>\n",
       "      <th>3</th>\n",
       "      <td>cMyc</td>\n",
       "      <td>53.427</td>\n",
       "    </tr>\n",
       "    <tr>\n",
       "      <th>4</th>\n",
       "      <td>cMyc</td>\n",
       "      <td>51.336</td>\n",
       "    </tr>\n",
       "    <tr>\n",
       "      <th>...</th>\n",
       "      <td>...</td>\n",
       "      <td>...</td>\n",
       "    </tr>\n",
       "    <tr>\n",
       "      <th>124492</th>\n",
       "      <td>cMycSP1</td>\n",
       "      <td>NaN</td>\n",
       "    </tr>\n",
       "    <tr>\n",
       "      <th>124493</th>\n",
       "      <td>cMycSP1</td>\n",
       "      <td>NaN</td>\n",
       "    </tr>\n",
       "    <tr>\n",
       "      <th>124494</th>\n",
       "      <td>cMycSP1</td>\n",
       "      <td>NaN</td>\n",
       "    </tr>\n",
       "    <tr>\n",
       "      <th>124495</th>\n",
       "      <td>cMycSP1</td>\n",
       "      <td>NaN</td>\n",
       "    </tr>\n",
       "    <tr>\n",
       "      <th>124496</th>\n",
       "      <td>cMycSP1</td>\n",
       "      <td>NaN</td>\n",
       "    </tr>\n",
       "  </tbody>\n",
       "</table>\n",
       "<p>124497 rows × 2 columns</p>\n",
       "</div>"
      ],
      "text/plain": [
       "       variable   value\n",
       "0          cMyc  70.117\n",
       "1          cMyc  78.887\n",
       "2          cMyc  80.105\n",
       "3          cMyc  53.427\n",
       "4          cMyc  51.336\n",
       "...         ...     ...\n",
       "124492  cMycSP1     NaN\n",
       "124493  cMycSP1     NaN\n",
       "124494  cMycSP1     NaN\n",
       "124495  cMycSP1     NaN\n",
       "124496  cMycSP1     NaN\n",
       "\n",
       "[124497 rows x 2 columns]"
      ]
     },
     "execution_count": 11,
     "metadata": {},
     "output_type": "execute_result"
    }
   ],
   "source": [
    "pd.melt(df)"
   ]
  },
  {
   "cell_type": "code",
   "execution_count": 13,
   "metadata": {},
   "outputs": [
    {
     "data": {
      "image/png": "[encoded data removed]",
      "text/plain": [
       "<Figure size 288x216 with 1 Axes>"
      ]
     },
     "metadata": {
      "needs_background": "light"
     },
     "output_type": "display_data"
    },
    {
     "name": "stdout",
     "output_type": "stream",
     "text": [
      "80.856 89.54155935622317\n",
      "90.809 99.0771007735126\n",
      "86.042 102.52787600062786\n"
     ]
    },
    {
     "data": {
      "image/png": "[encoded data removed]",
      "text/plain": [
       "<Figure size 288x216 with 1 Axes>"
      ]
     },
     "metadata": {
      "needs_background": "light"
     },
     "output_type": "display_data"
    }
   ],
   "source": [
    "#note that the distributions in the paper are smoothed, since that is made using the ksdensity in matlab\n",
    "fig,ax=plt.subplots(1,1,figsize=(4,3))\n",
    "dataars=[]\n",
    "for i in range(3):\n",
    "    ar=data[:,i].copy()\n",
    "    ar=ar[~np.isnan(ar)]\n",
    "    dataars.append(ar)\n",
    "    sorted_=np.sort(ar)\n",
    "    cumsum=np.arange(len(ar))/len(ar)\n",
    "    ax.step(sorted_,cumsum)\n",
    "    ax.set_ylabel(\"fraction\")\n",
    "plt.show()\n",
    "\n",
    "labels=[\"cMyc\",\"SP1\",\"cMyc/SP1\"]\n",
    "colors=[colorcMyc,colorSP1,\"k\"]\n",
    "fig,ax=plt.subplots(1,1,figsize=(4,3))\n",
    "for i in range(3):\n",
    "    ar=dataars[i]\n",
    "    print(np.median(ar),np.mean(ar))\n",
    "    hist,edges=np.histogram(ar,bins=np.arange(0,300,5),density=True)\n",
    "    ax.plot(edges[:-1],hist,label=labels[i],color=colors[i])\n",
    "ax.legend()\n",
    "plt.show()"
   ]
  },
  {
   "cell_type": "code",
   "execution_count": null,
   "metadata": {},
   "outputs": [],
   "source": []
  }
 ],
 "metadata": {
  "kernelspec": {
   "display_name": "Python 3",
   "language": "python",
   "name": "python3"
  },
  "language_info": {
   "codemirror_mode": {
    "name": "ipython",
    "version": 3
   },
   "file_extension": ".py",
   "mimetype": "text/x-python",
   "name": "python",
   "nbconvert_exporter": "python",
   "pygments_lexer": "ipython3",
   "version": "3.8.8"
  },
  "nbTranslate": {
   "displayLangs": [
    "*"
   ],
   "hotkey": "alt-t",
   "langInMainMenu": true,
   "sourceLang": "en",
   "targetLang": "fr",
   "useGoogleTranslate": true
  },
  "toc": {
   "base_numbering": 1,
   "nav_menu": {},
   "number_sections": true,
   "sideBar": true,
   "skip_h1_title": false,
   "title_cell": "Table of Contents",
   "title_sidebar": "Contents",
   "toc_cell": false,
   "toc_position": {},
   "toc_section_display": true,
   "toc_window_display": false
  }
 },
 "nbformat": 4,
 "nbformat_minor": 2
}
